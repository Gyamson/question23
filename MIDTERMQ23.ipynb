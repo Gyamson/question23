{
 "cells": [
  {
   "cell_type": "markdown",
   "id": "9ae8265f-71a7-4bf9-be46-67b5ef6f0efb",
   "metadata": {},
   "source": [
    "# QUESTION 23"
   ]
  },
  {
   "cell_type": "code",
   "execution_count": 2,
   "id": "c82fde0f-080a-4f77-bad5-9383e8ba1755",
   "metadata": {},
   "outputs": [],
   "source": [
    "def tough(indentation, number):\n",
    "    \n",
    "    # Base case: If number is zero, do nothing and return\n",
    "    if(number > 0):\n",
    "        \n",
    "        # Recursively calling the function with half the number (for the upper part)\n",
    "        tough(indentation, number//2);\n",
    "        \n",
    "        # Printing the pattern: spaces for indentation and asterisks for the number\n",
    "        print(\" \" * indentation + \"*\" * number);\n",
    "        \n",
    "        # Recursively calling the function again with incremented indentation \n",
    "        # (for the lower part, which is indented by one more space)\n",
    "        tough(indentation + 1, number//2);\n",
    "\n"
   ]
  },
  {
   "cell_type": "code",
   "execution_count": 7,
   "id": "60562fe7-0ba3-4b61-a4b0-b349a72d2466",
   "metadata": {},
   "outputs": [],
   "source": [
    "tough(0, 0)"
   ]
  },
  {
   "cell_type": "code",
   "execution_count": 8,
   "id": "375bab1b-f14f-4a2e-86c7-dfaa3328c5d0",
   "metadata": {},
   "outputs": [
    {
     "name": "stdout",
     "output_type": "stream",
     "text": [
      "*\n"
     ]
    }
   ],
   "source": [
    "tough(0, 1)"
   ]
  },
  {
   "cell_type": "code",
   "execution_count": 9,
   "id": "4e2171da-7cf6-452e-97a8-2b728d2d314b",
   "metadata": {},
   "outputs": [
    {
     "name": "stdout",
     "output_type": "stream",
     "text": [
      "*\n",
      "**\n",
      " *\n"
     ]
    }
   ],
   "source": [
    "tough(0, 2)"
   ]
  },
  {
   "cell_type": "code",
   "execution_count": 10,
   "id": "a6851131-bc0b-4518-ac04-140b0bb8824b",
   "metadata": {},
   "outputs": [
    {
     "name": "stdout",
     "output_type": "stream",
     "text": [
      "*\n",
      "**\n",
      " *\n",
      "****\n",
      " *\n",
      " **\n",
      "  *\n"
     ]
    }
   ],
   "source": [
    "tough(0, 4)"
   ]
  },
  {
   "cell_type": "code",
   "execution_count": null,
   "id": "f3eabf28-2fb0-43a2-abf2-e4eae74fa0be",
   "metadata": {},
   "outputs": [],
   "source": []
  }
 ],
 "metadata": {
  "kernelspec": {
   "display_name": "Python 3 (ipykernel)",
   "language": "python",
   "name": "python3"
  },
  "language_info": {
   "codemirror_mode": {
    "name": "ipython",
    "version": 3
   },
   "file_extension": ".py",
   "mimetype": "text/x-python",
   "name": "python",
   "nbconvert_exporter": "python",
   "pygments_lexer": "ipython3",
   "version": "3.11.7"
  }
 },
 "nbformat": 4,
 "nbformat_minor": 5
}
